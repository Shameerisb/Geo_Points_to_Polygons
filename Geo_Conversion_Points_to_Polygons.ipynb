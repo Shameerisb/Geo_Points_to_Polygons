{
  "nbformat": 4,
  "nbformat_minor": 0,
  "metadata": {
    "colab": {
      "provenance": [],
      "gpuType": "T4"
    },
    "kernelspec": {
      "name": "python3",
      "display_name": "Python 3"
    },
    "language_info": {
      "name": "python"
    },
    "accelerator": "GPU"
  },
  "cells": [
    {
      "cell_type": "markdown",
      "source": [
        "#<h1>**Geo-Conversion: Points to Polygons**</h1>"
      ],
      "metadata": {
        "id": "2b_588pNN57M"
      }
    },
    {
      "cell_type": "markdown",
      "source": [
        "#####In the region of **Bahawalnagar, Pakistan**, a significant geospatial initiative unfolds. The objective is to advance agricultural precision and land management through the conversion of point data to polygons, reshaping the way we understand crop cultivation.\n",
        "\n",
        "## Project Overview\n",
        "\n",
        "At its core, this project aims to replace individual data points with polygons, creating a more comprehensive representation of farm lands. Over **18,000 meticulously placed data points** serve as the foundation. These points correspond to **Kharif crops for the tenure of 2023 - 2024**, including maize, rice, fodder, cotton, and sugarcane. Our endeavor is to annotate farmlands with these specific crop types, painting a clearer picture of the landscape.\n",
        "\n",
        "## Challenges and Significance\n",
        "\n",
        "The essence of this endeavor lies in the transformation — converting isolated points into enclosed polygons. This shift enables us to precisely define farm boundaries and crop areas. This conversion holds the potential to considerably improve monitoring, planning, and resource allocation practices in agriculture.\n",
        "\n",
        "## Benefits and Applications\n",
        "\n",
        "The implications of this transformation are far-reaching. By representing farm lands as polygons, the project equips farmers, land managers, and policymakers with comprehensive insights for decision-making. The newfound polygons become invaluable tools for crop analysis, yield prediction, resource optimization, and strategic land-use planning.\n",
        "\n",
        "## Conclusion\n",
        "\n",
        "In the heart of **Bahawalnagar, Pakistan**, this geospatial journey stands as a testament to the fusion of technology and agricultural understanding. The conversion of point data to polygons marks a pivotal step towards more informed and precise agriculture practices. Stay tuned as we explore the technical aspects and methodologies behind this transformation.\n",
        "\n",
        "\n"
      ],
      "metadata": {
        "id": "HksIcsp8fNTK"
      }
    },
    {
      "cell_type": "markdown",
      "source": [
        "#<h2>**Segment-Geospatial Library**</h2>"
      ],
      "metadata": {
        "id": "Tb-tnfXeON4t"
      }
    },
    {
      "cell_type": "markdown",
      "source": [
        "The `segment-geospatial` library is a powerful toolkit designed to elevate your geospatial analysis projects. With a focus on segmentation tasks, this library equips you with versatile modules and functions to unravel the hidden patterns within spatial data.\n",
        "\n",
        "<h3> Key Features: <h3>\n",
        "\n",
        "- **Image Segmentation**: Seamlessly divide satellite images or aerial photographs into meaningful segments. Uncover hidden insights by analyzing color, texture, and visual properties.\n",
        "\n",
        "- **Vector Data Segmentation**: Transform geographic vector data, such as shapefiles or GeoJSON files, into distinct spatial segments. Utilize this segmentation to better understand your geographical information.\n",
        "\n",
        "- **Spatial Clustering**: Group geographic points or features based on their spatial relationships. This enables efficient exploration and analysis of spatial patterns.\n",
        "\n",
        "- **Geospatial Analysis**: Harness a range of analytical operations for geospatial datasets. Conduct spatial queries, buffering, overlay operations, and more to gain deeper insights into your data.\n",
        "\n",
        "- **Machine Learning Integration**: Seamlessly integrate machine learning techniques for geospatial data analysis. Train models for tasks like land cover classification, object detection, or even anomaly detection.\n",
        "\n",
        "Empower your geospatial analysis projects with the `segment-geospatial` library and unlock a new realm of insights in the world of spatial data.\n",
        "\n"
      ],
      "metadata": {
        "id": "KOhIZwkwTOTj"
      }
    },
    {
      "cell_type": "code",
      "source": [
        "%%capture\n",
        "%pip install segment-geospatial"
      ],
      "metadata": {
        "id": "b2IrBFsDIhI9"
      },
      "execution_count": 1,
      "outputs": []
    },
    {
      "cell_type": "markdown",
      "source": [
        "#<h2> **Importing Required libraries for SAM (Segment Anything Model) and data processing & management.**\n",
        "\n"
      ],
      "metadata": {
        "id": "Lnsj2-J1M_lX"
      }
    },
    {
      "cell_type": "markdown",
      "source": [
        "<h3>Imported libraries details</h3>\n",
        "\n",
        "- **SamGeo**: A class from the `samgeo` module used for spatial analysis using a specific model.\n",
        "\n",
        "- **tms_to_geotiff**: A function from the `samgeo` module used for converting TMS tiles to GeoTIFF images.\n",
        "\n",
        "- **geopandas**: A library for working with geospatial data.\n",
        "\n",
        "- **pandas**: A library for data manipulation and analysis.\n",
        "\n",
        "- **files**: A module from the `google.colab` library used for working with files in Google Colab.\n",
        "\n",
        "<h3>Create SamGeo Instance</h3>\n",
        "\n",
        "To perform spatial analysis, we'll create an instance of the `SamGeo` class with specific parameters.\n",
        "\n",
        "```python\n",
        "# Create an instance of the SamGeo class with specified parameters\n",
        "sam = SamGeo(\n",
        "    model_type=\"vit_h\",                 # Specify the model type (in this case, \"vit_h\")\n",
        "    checkpoint=\"sam_vit_h_4b8939.pth\",  # Specify the checkpoint file for the model\n",
        "    automatic=False,                    # Set automatic processing to False\n",
        "    sam_kwargs=None                     # Additional keyword arguments for the SamGeo instance (None in our case).\n",
        ")\n"
      ],
      "metadata": {
        "id": "eZR24QRFQNWv"
      }
    },
    {
      "cell_type": "code",
      "source": [
        "%%capture\n",
        "import os\n",
        "\n",
        "from samgeo import SamGeo, tms_to_geotiff\n",
        "\n",
        "import geopandas as gpd\n",
        "\n",
        "import pandas as pd\n",
        "\n",
        "from google.colab import files\n",
        "\n",
        "sam = SamGeo(\n",
        "      model_type=\"vit_h\",\n",
        "      checkpoint=\"sam_vit_h_4b8939.pth\",\n",
        "      automatic=False,\n",
        "      sam_kwargs=None,\n",
        "    )\n",
        "\n",
        "# At this point, the SamGeo instance 'sam' is created and configured.\n",
        "# It can be used to perform image analysis using the specified model and checkpoint.\n"
      ],
      "metadata": {
        "id": "6flyUny-dD-N"
      },
      "execution_count": 3,
      "outputs": []
    },
    {
      "cell_type": "markdown",
      "source": [
        "#<h2>**Data Requirement and Organization**</h2>"
      ],
      "metadata": {
        "id": "L4WA6HpMNh40"
      }
    },
    {
      "cell_type": "markdown",
      "source": [
        "<strong>1. Acquiring Data:</strong>\n",
        "Start by obtaining a dataset that contains essential information:\n",
        "- <strong>Bounding Box Coordinates:</strong> These define the area encompassing the points for processing. They set the spatial boundaries of the region in focus.\n",
        "- <strong>Latitudes and Longitudes:</strong> These pinpoint exact positions of each data point on the geographical map.\n",
        "\n",
        "<strong>2. Data Organization:</strong>\n",
        "To streamline the process, structure your data in CSV format:\n",
        "- Use the column labeled '<strong>box_cords</strong>' for bounding box coordinates.\n",
        "- Put latitudes in the '<strong>Latitude</strong>' column.\n",
        "- Record longitudes in the '<strong>Longitude</strong>' column.\n",
        "\n",
        "By following these straightforward steps of data acquisition and proper organization within a CSV file, you'll be equipped to seamlessly proceed with the geospatial analysis workflow.\n",
        "\n",
        "![data set excel demo.PNG](data:image/png;base64,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)\n",
        "</div>\n"
      ],
      "metadata": {
        "id": "ha3XAW_H4KFT"
      }
    },
    {
      "cell_type": "markdown",
      "source": [
        "<div style=\"background-color: #f9f9f9; border: 1px solid #e0e0e0; padding: 20px; border-radius: 10px; box-shadow: 0px 2px 4px rgba(0, 0, 0, 0.1);\">\n",
        "<h2 style=\"color: #1976D2;\">\n",
        "📊 Transforming CSV data into geographic insights.</h2>\n",
        "\n",
        "<strong>1. Uploading CSV Data File:</strong>\n",
        "Begin by uploading your CSV data file to the \"content\" folder within the Colab directory. This folder serves as a repository for the data files you'll be working with.\n",
        "\n",
        "<strong>2. Providing File Name:</strong>\n",
        "In the subsequent code lines, you'll need to specify the name of the CSV file containing your dataset. Locate the line of code marked with \"<strong>input_file_name =</strong>\" and fill in the name of your file\n",
        "```python\n",
        "input_file_name =     # Enter the name of the .csv file containing the coordinates of bounding box, latitude, longitude.\n",
        "```\n",
        "\n",
        "Now, let's delve into the code snippet and unravel its essence:\n",
        "\n",
        "- <strong>Basic initialization</strong>\n",
        "We start by initializing a variable, <strong>prev_bbox</strong>, as well as a list named <strong>gdf_list</strong>, which will be employed later to store GeoDataFrames.\n",
        "```python\n",
        "prev_bbox = 0\n",
        "gdf_list = []\n",
        "```\n",
        "\n",
        "Next, we embark on the journey of data extraction and processing:\n",
        "\n",
        "- <strong>Reading Data:</strong> The path to the CSV file is constructed using the provided file name. Bounding box coordinates, latitudes, and longitudes are extracted from their respective columns.\n",
        "```python\n",
        "#Setting the .csv file path.  \n",
        "file_path = f\"/content/{input_file_name}.csv\"\n",
        "```\n",
        "```python\n",
        "#Specifyin the column names.\n",
        "bbox_column_name = \"box_cords\"\n",
        "lat_column_name = \"Latitude\"  # Change this to the actual column name for latitude.\n",
        "lon_column_name = \"Longitude\"  # Change this to the actual column name for longitude.\n",
        "```\n",
        "```python\n",
        "# Read the data from .csv file\n",
        "df = pd.read_csv(file_path)\n",
        "bboxes = [[float(coord) for coord in bbox.split(',')] for bbox in df[bbox_column_name]]\n",
        "latitudes = df[lat_column_name].tolist()\n",
        "longitudes = df[lon_column_name].tolist()\n",
        "\n",
        "- <strong>Data Points Formation:</strong> Combining the latitudes and longitudes, we form data points—each a tuple that signifies a location on the map.\n",
        "```python\n",
        "# Combine latitudes and longitudes into tuples\n",
        "data_points = [[[lon, lat]] for lon, lat in zip(longitudes, latitudes)]\n",
        "\n",
        "\n",
        "In this elegant process, data is transformed from raw CSV format to meaningful coordinates, required for the operation of geo-SAM model. Follwing will be the format of acquired data :\n",
        "- bbox : [72.33326, 29.08553, 72.34211, 29.0952]\n",
        "- point : [[72.3342, 29.0945]]\n",
        "</div>\n"
      ],
      "metadata": {
        "id": "STqbA444AeOz"
      }
    },
    {
      "cell_type": "code",
      "source": [
        "input_file_name = 'demo data'        # Enter the name of the .csv file containing the coordinates of bounding box, latitude, longitude.\n",
        "prev_bbox = 0\n",
        "gdf_list = []\n",
        "\n",
        "#Setting the .csv file path.\n",
        "file_path = f\"/content/{input_file_name}.csv\"\n",
        "\n",
        "#Specifyin the column names.\n",
        "bbox_column_name = \"box_cords\"\n",
        "lat_column_name = \"Latitude\"  # Change this to the actual column name for latitude.\n",
        "lon_column_name = \"Longitude\"  # Change this to the actual column name for longitude.\n",
        "\n",
        "# Read the data from .csv file\n",
        "df = pd.read_csv(file_path)\n",
        "bboxes = [[float(coord) for coord in bbox.split(',')] for bbox in df[bbox_column_name]]\n",
        "latitudes = df[lat_column_name].tolist()\n",
        "longitudes = df[lon_column_name].tolist()\n",
        "\n",
        "# Combine latitudes and longitudes into tuples\n",
        "data_points = [[[lon, lat]] for lon, lat in zip(longitudes, latitudes)]"
      ],
      "metadata": {
        "id": "PiWKRPlFDOWm"
      },
      "execution_count": 4,
      "outputs": []
    },
    {
      "cell_type": "markdown",
      "source": [
        "#<h2>**Processing Data Points**</h2>"
      ],
      "metadata": {
        "id": "zHziohYINR88"
      }
    },
    {
      "cell_type": "markdown",
      "source": [
        "\n",
        "In this section of the code, we dive into the heart of data processing by iterating through the data points and performing a series of operations:\n",
        "\n",
        "<strong>Loop Through Data Points:</strong>\n",
        "Using the <code>enumerate()</code> function, we iterate over each data point and its corresponding index.\n",
        "\n",
        "```python\n",
        "for i, point in enumerate(data_points):\n",
        "```\n",
        "<strong>Extracting Data:</strong>\n",
        "We extract the block and bounding box (bbox) for the current data point. The <code>block</code> and <code>bbox</code> will be used for further processing.\n",
        "\n",
        "```python\n",
        "  block = blocks[i]\n",
        "  bbox = bboxes[i]\n",
        "```\n",
        "<strong>Bounding Box Check:</strong>\n",
        "We compare the current <code>bbox</code> with the previous one (<code>prev_bbox</code>). If they are not the same, it indicates a new bounding box, and we proceed to the next steps.\n",
        "\n",
        "```python\n",
        "  if bbox != prev_bbox:\n",
        "    prev_bbox = bboxes[i]\n",
        "```\n",
        "<strong>Generating GeoTIFF Image:</strong>\n",
        "We generate a GeoTIFF image using the provided <code>tms_to_geotiff()</code> function. This image will be used for further analysis, and it is based on the specified bounding box, zoom level, and source.\n",
        "\n",
        "```python\n",
        "    image = \"satellite.tif\"\n",
        "    tms_to_geotiff(output=image, bbox=bbox, zoom=17, source=\"Satellite\", overwrite=True)\n",
        "    sam.set_image(image)\n",
        "```\n",
        "<strong>Prediction and Vectorization:</strong>\n",
        "We set the output file names for the predicted GeoTIFF and the generated GeoPackage (gpkg) file.\n",
        "\n",
        "```python\n",
        "  output.tif_file_name = f\"mask_{i}.tif\"\n",
        "  output.gpkg_file_name = f\"mask{i}.gpkg\"\n",
        "  ```\n",
        "Using the <code>sam.predict()</code> function, we perform prediction on the current point and specify its CRS. This will generate a predicted GeoTIFF file.\n",
        "\n",
        "```python\n",
        "  sam.predict(point, point_labels=i, point_crs=\"EPSG:4326\", output=output.tif_file_name)\n",
        "  ```\n",
        "Next, we convert the predicted GeoTIFF to a vector format using the <code>sam.tiff_to_vector()</code> function, generating a GeoPackage file.\n",
        "\n",
        "```python\n",
        "  sam.tiff_to_vector(output.tif_file_name, output.gpkg_file_name)\n",
        "  ```\n",
        "<strong>Generating GeoDataFrame:</strong>\n",
        "We read the generated GeoPackage file into a GeoDataFrame using <code>gpd.read_file()</code> and store it as <code>current_gdf</code>.\n",
        "\n",
        "```python\n",
        "  current_gdf = gpd.read_file(output.gpkg_file_name)\n",
        "```\n",
        "<strong>Appending to GeoDataFrame List:</strong>\n",
        "We append the <code>current_gdf</code> GeoDataFrame to the <code>gdf_list</code>, which will be used to merge all the GeoDataFrames later.\n",
        "\n",
        "```python\n",
        "  gdf_list.append(current_gdf)\n",
        "```\n",
        "<strong>Merging GeoDataFrames:</strong>\n",
        "After the loop, we merge all the GeoDataFrames in the <code>gdf_list</code> into a single GeoDataFrame named <code>merged_gdf</code> using <code>pd.concat()</code>.\n",
        "\n",
        "```python\n",
        "merged_gdf = gpd.GeoDataFrame(pd.concat(gdf_list, ignore_index=True))\n",
        "```\n",
        "<strong>Saving and Downloading:</strong>\n",
        "We save the <code>merged_gdf</code> GeoDataFrame as a single GeoPackage file and download it.\n",
        "\n",
        "```python\n",
        "merged_output_file = f\"merged_output_{input_file_name}.gpkg\"\n",
        "merged_gdf.to_file(merged_output_file, driver=\"GPKG\")\n",
        "files.download(merged_output_file)\n",
        "```\n",
        "In essence, this snippet processes each data point, generates predicted GeoTIFFs, converts them to vectors, and finally merges all results into a single GeoDataFrame, which is then saved and downloaded.\n",
        "\n",
        "</div>"
      ],
      "metadata": {
        "id": "1ZThhVwHL2qs"
      }
    },
    {
      "cell_type": "code",
      "source": [
        "for i , point  in enumerate(data_points):\n",
        "  bbox = bboxes[i]\n",
        "\n",
        "\n",
        "\n",
        "  if bbox != prev_bbox:\n",
        "    prev_bbox = bboxes[i]\n",
        "    image = \"satellite.tif\"\n",
        "    tms_to_geotiff(output=image, bbox=bbox, zoom=17, source=\"Satellite\", overwrite=True)\n",
        "    sam.set_image(image)\n",
        "\n",
        "\n",
        "  output_tif_file_name = f\"mask_{i}.tif\"\n",
        "  output_gpkg_file_name= f\"mask{i}.gpkg\"\n",
        "\n",
        "  sam.predict(point, point_labels=i, point_crs=\"EPSG:4326\", output=output_tif_file_name)\n",
        "  sam.tiff_to_vector(output_tif_file_name, output_gpkg_file_name)\n",
        "\n",
        "  # Read the generated GeoDataFrame\n",
        "  current_gdf = gpd.read_file(output_gpkg_file_name)\n",
        "\n",
        "  # Append the GeoDataFrame to the list\n",
        "  gdf_list.append(current_gdf)\n",
        "\n",
        "# Merge all GeoDataFrames into a single GeoDataFrame\n",
        "merged_gdf = gpd.GeoDataFrame(pd.concat(gdf_list, ignore_index=True))\n",
        "\n",
        "# Save the merged GeoDataFrame to a single shapefile\n",
        "merged_output_file = f\"merged_output_{input_file_name}.gpkg\"\n",
        "merged_gdf.to_file(merged_output_file, driver=\"GPKG\")\n",
        "\n",
        "# Download the merged shapefile\n",
        "files.download(merged_output_file)\n",
        "\n",
        "\n",
        "\n",
        "\n"
      ],
      "metadata": {
        "colab": {
          "base_uri": "https://localhost:8080/",
          "height": 1000
        },
        "id": "gY_KPhwgHQQv",
        "outputId": "b9d7778a-f5cc-41f2-ddff-2f63cc5e107f"
      },
      "execution_count": 5,
      "outputs": [
        {
          "output_type": "stream",
          "name": "stdout",
          "text": [
            "Downloaded image 01/84\n",
            "Downloaded image 02/84\n",
            "Downloaded image 03/84\n",
            "Downloaded image 04/84\n",
            "Downloaded image 05/84\n",
            "Downloaded image 06/84\n",
            "Downloaded image 07/84\n",
            "Downloaded image 08/84\n",
            "Downloaded image 09/84\n",
            "Downloaded image 10/84\n",
            "Downloaded image 11/84\n",
            "Downloaded image 12/84\n",
            "Downloaded image 13/84\n",
            "Downloaded image 14/84\n",
            "Downloaded image 15/84\n",
            "Downloaded image 16/84\n",
            "Downloaded image 17/84\n",
            "Downloaded image 18/84\n",
            "Downloaded image 19/84\n",
            "Downloaded image 20/84\n",
            "Downloaded image 21/84\n",
            "Downloaded image 22/84\n",
            "Downloaded image 23/84\n",
            "Downloaded image 24/84\n",
            "Downloaded image 25/84\n",
            "Downloaded image 26/84\n",
            "Downloaded image 27/84\n",
            "Downloaded image 28/84\n",
            "Downloaded image 29/84\n",
            "Downloaded image 30/84\n",
            "Downloaded image 31/84\n",
            "Downloaded image 32/84\n",
            "Downloaded image 33/84\n",
            "Downloaded image 34/84\n",
            "Downloaded image 35/84\n",
            "Downloaded image 36/84\n",
            "Downloaded image 37/84\n",
            "Downloaded image 38/84\n",
            "Downloaded image 39/84\n",
            "Downloaded image 40/84\n",
            "Downloaded image 41/84\n",
            "Downloaded image 42/84\n",
            "Downloaded image 43/84\n",
            "Downloaded image 44/84\n",
            "Downloaded image 45/84\n",
            "Downloaded image 46/84\n",
            "Downloaded image 47/84\n",
            "Downloaded image 48/84\n",
            "Downloaded image 49/84\n",
            "Downloaded image 50/84\n",
            "Downloaded image 51/84\n",
            "Downloaded image 52/84\n",
            "Downloaded image 53/84\n",
            "Downloaded image 54/84\n",
            "Downloaded image 55/84\n",
            "Downloaded image 56/84\n",
            "Downloaded image 57/84\n",
            "Downloaded image 58/84\n",
            "Downloaded image 59/84\n",
            "Downloaded image 60/84\n",
            "Downloaded image 61/84\n",
            "Downloaded image 62/84\n",
            "Downloaded image 63/84\n",
            "Downloaded image 64/84\n",
            "Downloaded image 65/84\n",
            "Downloaded image 66/84\n",
            "Downloaded image 67/84\n",
            "Downloaded image 68/84\n",
            "Downloaded image 69/84\n",
            "Downloaded image 70/84\n",
            "Downloaded image 71/84\n",
            "Downloaded image 72/84\n",
            "Downloaded image 73/84\n",
            "Downloaded image 74/84\n",
            "Downloaded image 75/84\n",
            "Downloaded image 76/84\n",
            "Downloaded image 77/84\n",
            "Downloaded image 78/84\n",
            "Downloaded image 79/84\n",
            "Downloaded image 80/84\n",
            "Downloaded image 81/84\n",
            "Downloaded image 82/84\n",
            "Downloaded image 83/84\n",
            "Downloaded image 84/84\n",
            "Saving GeoTIFF. Please wait...\n",
            "Image saved to satellite.tif\n"
          ]
        },
        {
          "output_type": "display_data",
          "data": {
            "text/plain": [
              "<IPython.core.display.Javascript object>"
            ],
            "application/javascript": [
              "\n",
              "    async function download(id, filename, size) {\n",
              "      if (!google.colab.kernel.accessAllowed) {\n",
              "        return;\n",
              "      }\n",
              "      const div = document.createElement('div');\n",
              "      const label = document.createElement('label');\n",
              "      label.textContent = `Downloading \"${filename}\": `;\n",
              "      div.appendChild(label);\n",
              "      const progress = document.createElement('progress');\n",
              "      progress.max = size;\n",
              "      div.appendChild(progress);\n",
              "      document.body.appendChild(div);\n",
              "\n",
              "      const buffers = [];\n",
              "      let downloaded = 0;\n",
              "\n",
              "      const channel = await google.colab.kernel.comms.open(id);\n",
              "      // Send a message to notify the kernel that we're ready.\n",
              "      channel.send({})\n",
              "\n",
              "      for await (const message of channel.messages) {\n",
              "        // Send a message to notify the kernel that we're ready.\n",
              "        channel.send({})\n",
              "        if (message.buffers) {\n",
              "          for (const buffer of message.buffers) {\n",
              "            buffers.push(buffer);\n",
              "            downloaded += buffer.byteLength;\n",
              "            progress.value = downloaded;\n",
              "          }\n",
              "        }\n",
              "      }\n",
              "      const blob = new Blob(buffers, {type: 'application/binary'});\n",
              "      const a = document.createElement('a');\n",
              "      a.href = window.URL.createObjectURL(blob);\n",
              "      a.download = filename;\n",
              "      div.appendChild(a);\n",
              "      a.click();\n",
              "      div.remove();\n",
              "    }\n",
              "  "
            ]
          },
          "metadata": {}
        },
        {
          "output_type": "display_data",
          "data": {
            "text/plain": [
              "<IPython.core.display.Javascript object>"
            ],
            "application/javascript": [
              "download(\"download_61206257-deb9-438f-ae58-688a24c32b81\", \"merged_output_demo data.gpkg\", 163840)"
            ]
          },
          "metadata": {}
        }
      ]
    }
  ]
}